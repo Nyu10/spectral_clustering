{
 "cells": [
  {
   "cell_type": "code",
   "execution_count": null,
   "id": "ff507b1d",
   "metadata": {},
   "outputs": [],
   "source": [
    "from sklearn.datasets import make_circles\n",
    "from sklearn.neighbors import kneighbors_graph\n",
    "from sklearn.cluster import KMeans\n",
    "import numpy as np\n",
    "import os"
   ]
  },
  {
   "cell_type": "code",
   "execution_count": null,
   "id": "c708de63",
   "metadata": {},
   "outputs": [],
   "source": [
    "#get all .edges files\n",
    "text_files = [file for file in os.listdir(\"facebook\") if file.endswith('.edges')]\n",
    "for i in range(len(text_files)):\n",
    "    text_files[i] =  \"facebook/\" + text_files[i]\n",
    "# print(text_files)"
   ]
  },
  {
   "cell_type": "code",
   "execution_count": null,
   "id": "0bb43337",
   "metadata": {},
   "outputs": [],
   "source": [
    "#Create and Initialize Adjacency matrix\n",
    "adjacency_matrix = np.zeros((4039,4039))\n",
    "for file_names in text_files:\n",
    "    with open(file_names) as file:\n",
    "        for line in file:\n",
    "            line = line.split()\n",
    "            adjacency_matrix[int(line[0])][int(line[1])] = 1\n",
    "            adjacency_matrix[int(line[1])][int(line[0])] = 1"
   ]
  },
  {
   "cell_type": "code",
   "execution_count": null,
   "id": "0fd8d476",
   "metadata": {},
   "outputs": [],
   "source": [
    "# ON POSTER\n",
    "# DEGREE MATRIX IS THE AMOUNT OF FRIENDS\n",
    "degree_matrix = np.diag(adjacency_matrix.sum(axis=1))\n",
    "# for i in range(len(degree_matrix)):\n",
    "#     print(degree_matrix[i][i])"
   ]
  },
  {
   "cell_type": "code",
   "execution_count": null,
   "id": "1ec1ef71",
   "metadata": {},
   "outputs": [],
   "source": [
    "laplacian = degree_matrix - adjacency_matrix"
   ]
  },
  {
   "cell_type": "code",
   "execution_count": null,
   "id": "f782ed4c",
   "metadata": {},
   "outputs": [],
   "source": [
    "# eigenvalues and eigenvectors\n",
    "vals, vecs = np.linalg.eig(laplacian)\n",
    "# sort these based on the eigenvalues\n",
    "vecs = vecs[:,np.argsort(vals)]\n",
    "vals = vals[np.argsort(vals)]"
   ]
  },
  {
   "cell_type": "code",
   "execution_count": null,
   "id": "b0ae42a1",
   "metadata": {},
   "outputs": [],
   "source": [
    "# kmeans on first three vectors with nonzero eigenvalues\n",
    "kmeans = KMeans(n_clusters=4)\n",
    "kmeans.fit(vecs[:,1:4])\n",
    "colors = kmeans.labels_"
   ]
  },
  {
   "cell_type": "code",
   "execution_count": null,
   "id": "644ea3dd",
   "metadata": {},
   "outputs": [],
   "source": [
    "print(\"Clusters:\", colors)"
   ]
  },
  {
   "cell_type": "code",
   "execution_count": null,
   "id": "d0172b50",
   "metadata": {},
   "outputs": [],
   "source": [
    "# debug_output = open(\"debug_output.txt\", \"w\")\n",
    "# for i in range(len(adjacency_matrix)):\n",
    "#     for j in range(len(adjacency_matrix)):\n",
    "#         debug_output.write(np.array2string(adjacency_matrix[i][j]) + \" \")\n",
    "#     debug_output.write(\"\\n\")\n",
    "\n",
    "# for i in range(len(adjacency_matrix)):\n",
    "#     for j in range(len(adjacency_matrix)):\n",
    "#         if (adjacency_matrix[i][j] == 1):\n",
    "#             print(i,j)\n",
    "\n",
    "# debug_output = open(\"debug_output.txt\", \"w\")\n",
    "# for i in range(len(laplacian)):\n",
    "#     for j in range(len(laplacian)):\n",
    "#         debug_output.write(np.array2string(laplacian[i][j]) + \" \")\n",
    "#     debug_output.write(\"\\n\")"
   ]
  }
 ],
 "metadata": {
  "kernelspec": {
   "display_name": "Python 3 (ipykernel)",
   "language": "python",
   "name": "python3"
  },
  "language_info": {
   "codemirror_mode": {
    "name": "ipython",
    "version": 3
   },
   "file_extension": ".py",
   "mimetype": "text/x-python",
   "name": "python",
   "nbconvert_exporter": "python",
   "pygments_lexer": "ipython3",
   "version": "3.9.5"
  }
 },
 "nbformat": 4,
 "nbformat_minor": 5
}

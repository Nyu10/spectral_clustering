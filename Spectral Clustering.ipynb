{
 "cells": [
  {
   "cell_type": "code",
   "execution_count": 1,
   "id": "ff507b1d",
   "metadata": {},
   "outputs": [],
   "source": [
    "from sklearn.datasets import make_circles\n",
    "from sklearn.neighbors import kneighbors_graph\n",
    "from sklearn.cluster import KMeans\n",
    "import numpy as np\n",
    "import os\n",
    "import matplotlib.pyplot as plt\n",
    "import networkx as nx\n"
   ]
  },
  {
   "cell_type": "code",
   "execution_count": 2,
   "id": "c708de63",
   "metadata": {},
   "outputs": [],
   "source": [
    "#get all .edges files\n",
    "text_files = [file for file in os.listdir(\"facebook\") if file.endswith('.edges')]\n",
    "for i in range(len(text_files)):\n",
    "    text_files[i] =  \"facebook/\" + text_files[i]\n",
    "# print(text_files)"
   ]
  },
  {
   "cell_type": "code",
   "execution_count": 3,
   "id": "0bb43337",
   "metadata": {},
   "outputs": [],
   "source": [
    "#Create and Initialize Adjacency matrix\n",
    "adjacency_matrix = np.zeros((4039,4039))\n",
    "for file_names in text_files:\n",
    "    with open(file_names) as file:\n",
    "        for line in file:\n",
    "            line = line.split()\n",
    "            adjacency_matrix[int(line[0])][int(line[1])] = 1\n",
    "            adjacency_matrix[int(line[1])][int(line[0])] = 1"
   ]
  },
  {
   "cell_type": "code",
   "execution_count": 10,
   "id": "799a9105",
   "metadata": {},
   "outputs": [
    {
     "data": {
      "image/png": "[encoded data removed]",
      "text/plain": [
       "<Figure size 432x288 with 1 Axes>"
      ]
     },
     "metadata": {},
     "output_type": "display_data"
    }
   ],
   "source": [
    "def show_graph_with_labels(adjacency_matrix):\n",
    "    rows, cols = np.where(adjacency_matrix == 1)\n",
    "    edges = zip(rows.tolist(), cols.tolist())\n",
    "    gr = nx.Graph()\n",
    "    gr.add_edges_from(edges)\n",
    "    nx.draw_networkx_nodes(gr, pos=nx.spring_layout(gr),node_size=2, node_color=['blue'])\n",
    "    nx.draw_networkx_edges(gr, pos=nx.spring_layout(gr),width=0.1, alpha=0.5)\n",
    "    plt.show()\n",
    "show_graph_with_labels(adjacency_matrix)"
   ]
  },
  {
   "cell_type": "code",
   "execution_count": 20,
   "id": "0fd8d476",
   "metadata": {},
   "outputs": [
    {
     "name": "stdout",
     "output_type": "stream",
     "text": [
      "[[ 2.  0.  0. ...  0.  0.  0.]\n",
      " [ 0. 16.  0. ...  0.  0.  0.]\n",
      " [ 0.  0.  9. ...  0.  0.  0.]\n",
      " ...\n",
      " [ 0.  0.  0. ...  1.  0.  0.]\n",
      " [ 0.  0.  0. ...  0.  3.  0.]\n",
      " [ 0.  0.  0. ...  0.  0.  8.]]\n"
     ]
    },
    {
     "ename": "ValueError",
     "evalue": "Expected 1D or 2D array, got 0D array instead",
     "output_type": "error",
     "traceback": [
      "\u001b[1;31m---------------------------------------------------------------------------\u001b[0m",
      "\u001b[1;31mValueError\u001b[0m                                Traceback (most recent call last)",
      "\u001b[1;32m~\\AppData\\Local\\Temp/ipykernel_24388/3643516852.py\u001b[0m in \u001b[0;36m<module>\u001b[1;34m\u001b[0m\n\u001b[0;32m      5\u001b[0m \u001b[1;32mwith\u001b[0m \u001b[0mopen\u001b[0m\u001b[1;33m(\u001b[0m\u001b[1;34m'outfile.txt'\u001b[0m\u001b[1;33m,\u001b[0m\u001b[1;34m'wb'\u001b[0m\u001b[1;33m)\u001b[0m \u001b[1;32mas\u001b[0m \u001b[0mf\u001b[0m\u001b[1;33m:\u001b[0m\u001b[1;33m\u001b[0m\u001b[1;33m\u001b[0m\u001b[0m\n\u001b[0;32m      6\u001b[0m     \u001b[1;32mfor\u001b[0m \u001b[0mi\u001b[0m \u001b[1;32min\u001b[0m \u001b[0mrange\u001b[0m\u001b[1;33m(\u001b[0m\u001b[0mlen\u001b[0m\u001b[1;33m(\u001b[0m\u001b[0mdegree_matrix\u001b[0m\u001b[1;33m)\u001b[0m\u001b[1;33m)\u001b[0m\u001b[1;33m:\u001b[0m\u001b[1;33m\u001b[0m\u001b[1;33m\u001b[0m\u001b[0m\n\u001b[1;32m----> 7\u001b[1;33m         \u001b[0mnp\u001b[0m\u001b[1;33m.\u001b[0m\u001b[0msavetxt\u001b[0m\u001b[1;33m(\u001b[0m\u001b[0mf\u001b[0m\u001b[1;33m,\u001b[0m \u001b[0mdegree_matrix\u001b[0m\u001b[1;33m[\u001b[0m\u001b[0mi\u001b[0m\u001b[1;33m]\u001b[0m\u001b[1;33m[\u001b[0m\u001b[0mi\u001b[0m\u001b[1;33m]\u001b[0m\u001b[1;33m)\u001b[0m\u001b[1;33m\u001b[0m\u001b[1;33m\u001b[0m\u001b[0m\n\u001b[0m\u001b[0;32m      8\u001b[0m \u001b[1;33m\u001b[0m\u001b[0m\n\u001b[0;32m      9\u001b[0m \u001b[1;33m\u001b[0m\u001b[0m\n",
      "\u001b[1;32m~\\AppData\\Local\\Programs\\Python\\Python39\\lib\\site-packages\\numpy\\core\\overrides.py\u001b[0m in \u001b[0;36msavetxt\u001b[1;34m(*args, **kwargs)\u001b[0m\n",
      "\u001b[1;32m~\\AppData\\Local\\Programs\\Python\\Python39\\lib\\site-packages\\numpy\\lib\\npyio.py\u001b[0m in \u001b[0;36msavetxt\u001b[1;34m(fname, X, fmt, delimiter, newline, header, footer, comments, encoding)\u001b[0m\n\u001b[0;32m   1395\u001b[0m         \u001b[1;31m# Handle 1-dimensional arrays\u001b[0m\u001b[1;33m\u001b[0m\u001b[1;33m\u001b[0m\u001b[1;33m\u001b[0m\u001b[0m\n\u001b[0;32m   1396\u001b[0m         \u001b[1;32mif\u001b[0m \u001b[0mX\u001b[0m\u001b[1;33m.\u001b[0m\u001b[0mndim\u001b[0m \u001b[1;33m==\u001b[0m \u001b[1;36m0\u001b[0m \u001b[1;32mor\u001b[0m \u001b[0mX\u001b[0m\u001b[1;33m.\u001b[0m\u001b[0mndim\u001b[0m \u001b[1;33m>\u001b[0m \u001b[1;36m2\u001b[0m\u001b[1;33m:\u001b[0m\u001b[1;33m\u001b[0m\u001b[1;33m\u001b[0m\u001b[0m\n\u001b[1;32m-> 1397\u001b[1;33m             raise ValueError(\n\u001b[0m\u001b[0;32m   1398\u001b[0m                 \"Expected 1D or 2D array, got %dD array instead\" % X.ndim)\n\u001b[0;32m   1399\u001b[0m         \u001b[1;32melif\u001b[0m \u001b[0mX\u001b[0m\u001b[1;33m.\u001b[0m\u001b[0mndim\u001b[0m \u001b[1;33m==\u001b[0m \u001b[1;36m1\u001b[0m\u001b[1;33m:\u001b[0m\u001b[1;33m\u001b[0m\u001b[1;33m\u001b[0m\u001b[0m\n",
      "\u001b[1;31mValueError\u001b[0m: Expected 1D or 2D array, got 0D array instead"
     ]
    }
   ],
   "source": [
    "# ON POSTER\n",
    "# DEGREE MATRIX IS THE AMOUNT OF FRIENDS\n",
    "degree_matrix = np.diag(adjacency_matrix.sum(axis=1))\n",
    "print(degree_matrix)\n",
    "with open('outfile.txt','wb') as f:\n",
    "    for i in range(len(degree_matrix)):\n",
    "        np.savetxt(f, degree_matrix[i][i])\n",
    "\n",
    "    \n",
    "\n",
    "# for i in range(len(degree_matrix)):\n",
    "#     print(degree_matrix[i][i])"
   ]
  },
  {
   "cell_type": "code",
   "execution_count": null,
   "id": "1ec1ef71",
   "metadata": {},
   "outputs": [],
   "source": [
    "laplacian = degree_matrix - adjacency_matrix"
   ]
  },
  {
   "cell_type": "code",
   "execution_count": null,
   "id": "f782ed4c",
   "metadata": {},
   "outputs": [],
   "source": [
    "# eigenvalues and eigenvectors\n",
    "vals, vecs = np.linalg.eig(laplacian)\n",
    "# sort these based on the eigenvalues\n",
    "vecs = vecs[:,np.argsort(vals)]\n",
    "vals = vals[np.argsort(vals)]"
   ]
  },
  {
   "cell_type": "code",
   "execution_count": null,
   "id": "b0ae42a1",
   "metadata": {},
   "outputs": [],
   "source": [
    "# kmeans on first three vectors with nonzero eigenvalues\n",
    "kmeans = KMeans(n_clusters=10)\n",
    "kmeans.fit(vecs[:,1:4])\n",
    "colors = kmeans.labels_"
   ]
  },
  {
   "cell_type": "code",
   "execution_count": null,
   "id": "644ea3dd",
   "metadata": {},
   "outputs": [
    {
     "name": "stdout",
     "output_type": "stream",
     "text": [
      "Clusters: [0 0 0 ... 0 0 0]\n"
     ]
    }
   ],
   "source": [
    "print(\"Clusters:\", colors)"
   ]
  },
  {
   "cell_type": "code",
   "execution_count": null,
   "id": "d0172b50",
   "metadata": {},
   "outputs": [],
   "source": [
    "# debug_output = open(\"debug_output.txt\", \"w\")\n",
    "# for i in range(len(adjacency_matrix)):\n",
    "#     for j in range(len(adjacency_matrix)):\n",
    "#         debug_output.write(np.array2string(adjacency_matrix[i][j]) + \" \")\n",
    "#     debug_output.write(\"\\n\")\n",
    "\n",
    "# for i in range(len(adjacency_matrix)):\n",
    "#     for j in range(len(adjacency_matrix)):\n",
    "#         if (adjacency_matrix[i][j] == 1):\n",
    "#             print(i,j)\n",
    "\n",
    "# debug_output = open(\"debug_output.txt\", \"w\")\n",
    "# for i in range(len(laplacian)):\n",
    "#     for j in range(len(laplacian)):\n",
    "#         debug_output.write(np.array2string(laplacian[i][j]) + \" \")\n",
    "#     debug_output.write(\"\\n\")"
   ]
  },
  {
   "cell_type": "code",
   "execution_count": null,
   "id": "626281f7",
   "metadata": {},
   "outputs": [
    {
     "data": {
      "image/png": "[encoded data removed]",
      "text/plain": [
       "<Figure size 432x288 with 1 Axes>"
      ]
     },
     "metadata": {},
     "output_type": "display_data"
    }
   ],
   "source": [
    "def show_graph(adjacency_matrix):\n",
    "    for i in adjacency_matrix:\n",
    "        print(i)\n",
    "show_graph_with_labels(adjacency_matrix)"
   ]
  },
  {
   "cell_type": "code",
   "execution_count": null,
   "id": "4079946b",
   "metadata": {},
   "outputs": [],
   "source": []
  }
 ],
 "metadata": {
  "kernelspec": {
   "display_name": "Python 3 (ipykernel)",
   "language": "python",
   "name": "python3"
  },
  "language_info": {
   "codemirror_mode": {
    "name": "ipython",
    "version": 3
   },
   "file_extension": ".py",
   "mimetype": "text/x-python",
   "name": "python",
   "nbconvert_exporter": "python",
   "pygments_lexer": "ipython3",
   "version": "3.9.5"
  }
 },
 "nbformat": 4,
 "nbformat_minor": 5
}
